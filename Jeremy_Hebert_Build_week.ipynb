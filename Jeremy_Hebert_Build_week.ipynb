{
  "nbformat": 4,
  "nbformat_minor": 0,
  "metadata": {
    "colab": {
      "name": "Jeremy_Hebert_Build_week.ipynb",
      "provenance": [],
      "collapsed_sections": []
    },
    "kernelspec": {
      "name": "python3",
      "display_name": "Python 3"
    },
    "language_info": {
      "name": "python"
    }
  },
  "cells": [
    {
      "cell_type": "code",
      "metadata": {
        "id": "HE9qVnXrkXU-"
      },
      "source": [
        "!pip install category_encoders==2.*\n",
        "!pip install pdpbox"
      ],
      "execution_count": null,
      "outputs": []
    },
    {
      "cell_type": "code",
      "metadata": {
        "id": "ZGe8aLIkkZB9",
        "colab": {
          "base_uri": "https://localhost:8080/"
        },
        "outputId": "770a954e-cfc8-4d87-f20c-067a969c3302"
      },
      "source": [
        "#importing needed libraries\n",
        "import pandas as pd\n",
        "import matplotlib.pyplot as plt\n",
        "from sklearn.metrics import mean_absolute_error\n",
        "from sklearn.linear_model import LinearRegression, Ridge\n",
        "from sklearn.impute import SimpleImputer\n",
        "from category_encoders import OneHotEncoder\n",
        "from sklearn.pipeline import make_pipeline\n",
        "from sklearn.model_selection import train_test_split\n",
        "from xgboost import XGBRegressor\n",
        "from sklearn.ensemble import RandomForestRegressor, GradientBoostingRegressor"
      ],
      "execution_count": 2,
      "outputs": [
        {
          "output_type": "stream",
          "text": [
            "/usr/local/lib/python3.7/dist-packages/statsmodels/tools/_testing.py:19: FutureWarning: pandas.util.testing is deprecated. Use the functions in the public API at pandas.testing instead.\n",
            "  import pandas.util.testing as tm\n"
          ],
          "name": "stderr"
        }
      ]
    },
    {
      "cell_type": "markdown",
      "metadata": {
        "id": "ztxaNImr8LTp"
      },
      "source": [
        "data can be downloaded from Kaggle using link https://www.kaggle.com/deepankurk/flight-take-off-data-jfk-airport?select=M1_final.csv"
      ]
    },
    {
      "cell_type": "code",
      "metadata": {
        "colab": {
          "base_uri": "https://localhost:8080/",
          "height": 357
        },
        "id": "tMMzRhkqkfAB",
        "outputId": "6ec4b23d-9c91-4b41-b071-dc52dfa49f29"
      },
      "source": [
        "def wrangle (file_url):\n",
        "  df = pd.read_csv(file_url)\n",
        "\n",
        "  #Creating new column for year\n",
        "  df.loc[df['MONTH'] < 2, 'YEAR'] = 2020 ##January (1) is year 2020\n",
        "  df.loc[df['MONTH'] >= 2, 'YEAR'] = 2019 ##Nov, Dec is 2019\n",
        "  \n",
        " \n",
        "  #Creating new column for 'DATE' that combines year, month, and day columns then dropping year, month, day columns\n",
        "  df.rename(columns={'DAY_OF_MONTH': 'DAY'}, inplace = True) #renaming the DAY OF MONTH column to easier convert to datetime format\n",
        "  df['DATE'] =  pd.to_datetime(df[['YEAR','MONTH', 'DAY']])\n",
        "  df.drop(columns = ['DAY', 'MONTH', 'YEAR'], inplace = True)\n",
        "  \n",
        "  #setting date as index\n",
        "  df.set_index('DATE', inplace = True)\n",
        "\n",
        "   #all numerical values but dtype is object, changing to int to help with onehot encoder down the line\n",
        "  df['Dew Point'] = df['Dew Point'].astype(int)\n",
        "  \n",
        "  #dropping high cardinality columns\n",
        "  cutoff = 60\n",
        "  drop_cols = [col for col in df.select_dtypes('object').columns\n",
        "              if df[col].nunique() > cutoff]\n",
        "  df.drop(columns=drop_cols, inplace=True)\n",
        "\n",
        "  #all numerical values but dtype is object, changing to int to help with onehot encoder down the line\n",
        "  df['Dew Point'] = df['Dew Point'].astype(int)\n",
        "\n",
        "\n",
        "\n",
        "  return df\n",
        "\n",
        "df = wrangle('M1_final.csv')\n",
        "\n",
        "df.head()\n"
      ],
      "execution_count": 3,
      "outputs": [
        {
          "output_type": "execute_result",
          "data": {
            "text/html": [
              "<div>\n",
              "<style scoped>\n",
              "    .dataframe tbody tr th:only-of-type {\n",
              "        vertical-align: middle;\n",
              "    }\n",
              "\n",
              "    .dataframe tbody tr th {\n",
              "        vertical-align: top;\n",
              "    }\n",
              "\n",
              "    .dataframe thead th {\n",
              "        text-align: right;\n",
              "    }\n",
              "</style>\n",
              "<table border=\"1\" class=\"dataframe\">\n",
              "  <thead>\n",
              "    <tr style=\"text-align: right;\">\n",
              "      <th></th>\n",
              "      <th>DAY_OF_WEEK</th>\n",
              "      <th>OP_UNIQUE_CARRIER</th>\n",
              "      <th>DEP_DELAY</th>\n",
              "      <th>CRS_ELAPSED_TIME</th>\n",
              "      <th>DISTANCE</th>\n",
              "      <th>CRS_DEP_M</th>\n",
              "      <th>DEP_TIME_M</th>\n",
              "      <th>CRS_ARR_M</th>\n",
              "      <th>Temperature</th>\n",
              "      <th>Dew Point</th>\n",
              "      <th>Humidity</th>\n",
              "      <th>Wind</th>\n",
              "      <th>Wind Speed</th>\n",
              "      <th>Wind Gust</th>\n",
              "      <th>Pressure</th>\n",
              "      <th>Condition</th>\n",
              "      <th>sch_dep</th>\n",
              "      <th>sch_arr</th>\n",
              "      <th>TAXI_OUT</th>\n",
              "    </tr>\n",
              "    <tr>\n",
              "      <th>DATE</th>\n",
              "      <th></th>\n",
              "      <th></th>\n",
              "      <th></th>\n",
              "      <th></th>\n",
              "      <th></th>\n",
              "      <th></th>\n",
              "      <th></th>\n",
              "      <th></th>\n",
              "      <th></th>\n",
              "      <th></th>\n",
              "      <th></th>\n",
              "      <th></th>\n",
              "      <th></th>\n",
              "      <th></th>\n",
              "      <th></th>\n",
              "      <th></th>\n",
              "      <th></th>\n",
              "      <th></th>\n",
              "      <th></th>\n",
              "    </tr>\n",
              "  </thead>\n",
              "  <tbody>\n",
              "    <tr>\n",
              "      <th>2019-11-01</th>\n",
              "      <td>5</td>\n",
              "      <td>B6</td>\n",
              "      <td>-1</td>\n",
              "      <td>124</td>\n",
              "      <td>636</td>\n",
              "      <td>324</td>\n",
              "      <td>323</td>\n",
              "      <td>448</td>\n",
              "      <td>48</td>\n",
              "      <td>34</td>\n",
              "      <td>58</td>\n",
              "      <td>W</td>\n",
              "      <td>25</td>\n",
              "      <td>38</td>\n",
              "      <td>29.86</td>\n",
              "      <td>Fair / Windy</td>\n",
              "      <td>9</td>\n",
              "      <td>17</td>\n",
              "      <td>14</td>\n",
              "    </tr>\n",
              "    <tr>\n",
              "      <th>2019-11-01</th>\n",
              "      <td>5</td>\n",
              "      <td>B6</td>\n",
              "      <td>-7</td>\n",
              "      <td>371</td>\n",
              "      <td>2475</td>\n",
              "      <td>340</td>\n",
              "      <td>333</td>\n",
              "      <td>531</td>\n",
              "      <td>48</td>\n",
              "      <td>34</td>\n",
              "      <td>58</td>\n",
              "      <td>W</td>\n",
              "      <td>25</td>\n",
              "      <td>38</td>\n",
              "      <td>29.86</td>\n",
              "      <td>Fair / Windy</td>\n",
              "      <td>9</td>\n",
              "      <td>17</td>\n",
              "      <td>15</td>\n",
              "    </tr>\n",
              "    <tr>\n",
              "      <th>2019-11-01</th>\n",
              "      <td>5</td>\n",
              "      <td>B6</td>\n",
              "      <td>40</td>\n",
              "      <td>181</td>\n",
              "      <td>1069</td>\n",
              "      <td>301</td>\n",
              "      <td>341</td>\n",
              "      <td>482</td>\n",
              "      <td>48</td>\n",
              "      <td>34</td>\n",
              "      <td>58</td>\n",
              "      <td>W</td>\n",
              "      <td>25</td>\n",
              "      <td>38</td>\n",
              "      <td>29.86</td>\n",
              "      <td>Fair / Windy</td>\n",
              "      <td>9</td>\n",
              "      <td>17</td>\n",
              "      <td>22</td>\n",
              "    </tr>\n",
              "    <tr>\n",
              "      <th>2019-11-01</th>\n",
              "      <td>5</td>\n",
              "      <td>B6</td>\n",
              "      <td>-2</td>\n",
              "      <td>168</td>\n",
              "      <td>944</td>\n",
              "      <td>345</td>\n",
              "      <td>343</td>\n",
              "      <td>513</td>\n",
              "      <td>48</td>\n",
              "      <td>34</td>\n",
              "      <td>58</td>\n",
              "      <td>W</td>\n",
              "      <td>25</td>\n",
              "      <td>38</td>\n",
              "      <td>29.86</td>\n",
              "      <td>Fair / Windy</td>\n",
              "      <td>9</td>\n",
              "      <td>17</td>\n",
              "      <td>12</td>\n",
              "    </tr>\n",
              "    <tr>\n",
              "      <th>2019-11-01</th>\n",
              "      <td>5</td>\n",
              "      <td>DL</td>\n",
              "      <td>-4</td>\n",
              "      <td>139</td>\n",
              "      <td>760</td>\n",
              "      <td>360</td>\n",
              "      <td>356</td>\n",
              "      <td>499</td>\n",
              "      <td>46</td>\n",
              "      <td>32</td>\n",
              "      <td>58</td>\n",
              "      <td>W</td>\n",
              "      <td>24</td>\n",
              "      <td>35</td>\n",
              "      <td>29.91</td>\n",
              "      <td>Fair / Windy</td>\n",
              "      <td>9</td>\n",
              "      <td>17</td>\n",
              "      <td>13</td>\n",
              "    </tr>\n",
              "  </tbody>\n",
              "</table>\n",
              "</div>"
            ],
            "text/plain": [
              "            DAY_OF_WEEK OP_UNIQUE_CARRIER  ...  sch_arr  TAXI_OUT\n",
              "DATE                                       ...                   \n",
              "2019-11-01            5                B6  ...       17        14\n",
              "2019-11-01            5                B6  ...       17        15\n",
              "2019-11-01            5                B6  ...       17        22\n",
              "2019-11-01            5                B6  ...       17        12\n",
              "2019-11-01            5                DL  ...       17        13\n",
              "\n",
              "[5 rows x 19 columns]"
            ]
          },
          "metadata": {
            "tags": []
          },
          "execution_count": 3
        }
      ]
    },
    {
      "cell_type": "code",
      "metadata": {
        "id": "0TurfSSQlRbV"
      },
      "source": [
        "#setting TAXI_OUT column as feature (y) and X as all remaining columns\n",
        "target = 'TAXI_OUT'\n",
        "X = df.drop(columns = target)\n",
        "y = df[target]\n"
      ],
      "execution_count": 4,
      "outputs": []
    },
    {
      "cell_type": "code",
      "metadata": {
        "id": "as4mWdnClYHL"
      },
      "source": [
        "#random split into training and test data. \n",
        "##note:not using date since there is not an even way to distribute and have close to an 80/20 split\n",
        "X_train, X_test, y_train, y_test = train_test_split(X,y, test_size = .2, random_state = 42)"
      ],
      "execution_count": 5,
      "outputs": []
    },
    {
      "cell_type": "code",
      "metadata": {
        "id": "ET4xhsl5ld-0",
        "colab": {
          "base_uri": "https://localhost:8080/"
        },
        "outputId": "ef64d75d-b91a-48bc-9b7a-44d74c6a085f"
      },
      "source": [
        "#using average values of feature column to calculate MAE and make that the baseline\n",
        "y_pred = [y_train.mean()] * len(y_train)\n",
        "baseline_mae = mean_absolute_error(y_train, y_pred)\n",
        "print('Baseline MAE:', baseline_mae)"
      ],
      "execution_count": 6,
      "outputs": [
        {
          "output_type": "stream",
          "text": [
            "Baseline MAE: 5.493762343599579\n"
          ],
          "name": "stdout"
        }
      ]
    },
    {
      "cell_type": "code",
      "metadata": {
        "colab": {
          "base_uri": "https://localhost:8080/"
        },
        "id": "vpuUwCn-M6Qr",
        "outputId": "81ead160-2a24-4664-aff4-c882dd209b03"
      },
      "source": [
        "#creating linear regression model and fitting training data\n",
        "model_lr = make_pipeline(\n",
        "    OneHotEncoder(use_cat_names= True),  \n",
        "    LinearRegression()\n",
        ")\n",
        "model_lr.fit(X_train, y_train)"
      ],
      "execution_count": 7,
      "outputs": [
        {
          "output_type": "stream",
          "text": [
            "/usr/local/lib/python3.7/dist-packages/category_encoders/utils.py:21: FutureWarning: is_categorical is deprecated and will be removed in a future version.  Use is_categorical_dtype instead\n",
            "  elif pd.api.types.is_categorical(cols):\n"
          ],
          "name": "stderr"
        },
        {
          "output_type": "execute_result",
          "data": {
            "text/plain": [
              "Pipeline(memory=None,\n",
              "         steps=[('onehotencoder',\n",
              "                 OneHotEncoder(cols=['OP_UNIQUE_CARRIER', 'Wind', 'Condition'],\n",
              "                               drop_invariant=False, handle_missing='value',\n",
              "                               handle_unknown='value', return_df=True,\n",
              "                               use_cat_names=True, verbose=0)),\n",
              "                ('linearregression',\n",
              "                 LinearRegression(copy_X=True, fit_intercept=True, n_jobs=None,\n",
              "                                  normalize=False))],\n",
              "         verbose=False)"
            ]
          },
          "metadata": {
            "tags": []
          },
          "execution_count": 7
        }
      ]
    },
    {
      "cell_type": "code",
      "metadata": {
        "colab": {
          "base_uri": "https://localhost:8080/"
        },
        "id": "DOw4DRSIM6ZS",
        "outputId": "b0d7d91e-7cd3-4ac9-dcb5-f99d663ba3b9"
      },
      "source": [
        "#creating ridge regression model and fitting training data\n",
        "model_r = make_pipeline(\n",
        "    OneHotEncoder(use_cat_names= True),  \n",
        "    Ridge(alpha=.5)\n",
        ")  \n",
        "model_r.fit(X_train, y_train)"
      ],
      "execution_count": 14,
      "outputs": [
        {
          "output_type": "stream",
          "text": [
            "/usr/local/lib/python3.7/dist-packages/category_encoders/utils.py:21: FutureWarning: is_categorical is deprecated and will be removed in a future version.  Use is_categorical_dtype instead\n",
            "  elif pd.api.types.is_categorical(cols):\n"
          ],
          "name": "stderr"
        },
        {
          "output_type": "execute_result",
          "data": {
            "text/plain": [
              "Pipeline(memory=None,\n",
              "         steps=[('onehotencoder',\n",
              "                 OneHotEncoder(cols=['OP_UNIQUE_CARRIER', 'Wind', 'Condition'],\n",
              "                               drop_invariant=False, handle_missing='value',\n",
              "                               handle_unknown='value', return_df=True,\n",
              "                               use_cat_names=True, verbose=0)),\n",
              "                ('ridge',\n",
              "                 Ridge(alpha=0.5, copy_X=True, fit_intercept=True,\n",
              "                       max_iter=None, normalize=False, random_state=None,\n",
              "                       solver='auto', tol=0.001))],\n",
              "         verbose=False)"
            ]
          },
          "metadata": {
            "tags": []
          },
          "execution_count": 14
        }
      ]
    },
    {
      "cell_type": "code",
      "metadata": {
        "colab": {
          "base_uri": "https://localhost:8080/"
        },
        "id": "gukOo6Xfl6JS",
        "outputId": "ed08b64e-5514-4e1e-b6b0-6236a6fa9a8d"
      },
      "source": [
        "#creating GBM model and fitting training data\n",
        "model_gbm = make_pipeline(\n",
        "    OneHotEncoder(use_cat_names= True),  \n",
        "    GradientBoostingRegressor(random_state=42)\n",
        ")\n",
        "model_gbm.fit(X_train, y_train)"
      ],
      "execution_count": 15,
      "outputs": [
        {
          "output_type": "stream",
          "text": [
            "/usr/local/lib/python3.7/dist-packages/category_encoders/utils.py:21: FutureWarning: is_categorical is deprecated and will be removed in a future version.  Use is_categorical_dtype instead\n",
            "  elif pd.api.types.is_categorical(cols):\n"
          ],
          "name": "stderr"
        },
        {
          "output_type": "execute_result",
          "data": {
            "text/plain": [
              "Pipeline(memory=None,\n",
              "         steps=[('onehotencoder',\n",
              "                 OneHotEncoder(cols=['OP_UNIQUE_CARRIER', 'Wind', 'Condition'],\n",
              "                               drop_invariant=False, handle_missing='value',\n",
              "                               handle_unknown='value', return_df=True,\n",
              "                               use_cat_names=True, verbose=0)),\n",
              "                ('gradientboostingregressor',\n",
              "                 GradientBoostingRegressor(alpha=0.9, ccp_alpha=0.0,\n",
              "                                           criterion='friedman_mse', init=None,\n",
              "                                           learning_rate=0.1, loss='ls',\n",
              "                                           max_depth=3, max_features=None,\n",
              "                                           max_leaf_nodes=None,\n",
              "                                           min_impurity_decrease=0.0,\n",
              "                                           min_impurity_split=None,\n",
              "                                           min_samples_leaf=1,\n",
              "                                           min_samples_split=2,\n",
              "                                           min_weight_fraction_leaf=0.0,\n",
              "                                           n_estimators=100,\n",
              "                                           n_iter_no_change=None,\n",
              "                                           presort='deprecated',\n",
              "                                           random_state=42, subsample=1.0,\n",
              "                                           tol=0.0001, validation_fraction=0.1,\n",
              "                                           verbose=0, warm_start=False))],\n",
              "         verbose=False)"
            ]
          },
          "metadata": {
            "tags": []
          },
          "execution_count": 15
        }
      ]
    },
    {
      "cell_type": "code",
      "metadata": {
        "colab": {
          "base_uri": "https://localhost:8080/"
        },
        "id": "a4JJxmIzmpNC",
        "outputId": "81cd2e15-4fab-43e9-ad1b-2c1bb7658fd0"
      },
      "source": [
        "#creating XGB model and fitting training data\n",
        "model_xgb = make_pipeline(\n",
        "    OneHotEncoder(use_cat_names= True), \n",
        "    SimpleImputer(strategy='mean'), \n",
        "    XGBRegressor(random_state=42,n_jobs=-1)\n",
        ")\n",
        "\n",
        "model_xgb.fit(X_train, y_train)"
      ],
      "execution_count": 16,
      "outputs": [
        {
          "output_type": "stream",
          "text": [
            "/usr/local/lib/python3.7/dist-packages/category_encoders/utils.py:21: FutureWarning: is_categorical is deprecated and will be removed in a future version.  Use is_categorical_dtype instead\n",
            "  elif pd.api.types.is_categorical(cols):\n"
          ],
          "name": "stderr"
        },
        {
          "output_type": "stream",
          "text": [
            "[17:18:22] WARNING: /workspace/src/objective/regression_obj.cu:152: reg:linear is now deprecated in favor of reg:squarederror.\n"
          ],
          "name": "stdout"
        },
        {
          "output_type": "execute_result",
          "data": {
            "text/plain": [
              "Pipeline(memory=None,\n",
              "         steps=[('onehotencoder',\n",
              "                 OneHotEncoder(cols=['OP_UNIQUE_CARRIER', 'Wind', 'Condition'],\n",
              "                               drop_invariant=False, handle_missing='value',\n",
              "                               handle_unknown='value', return_df=True,\n",
              "                               use_cat_names=True, verbose=0)),\n",
              "                ('simpleimputer',\n",
              "                 SimpleImputer(add_indicator=False, copy=True, fill_value=None,\n",
              "                               missing_values=nan, strategy='mean',\n",
              "                               verbose=0)),\n",
              "                ('xgbreg...\n",
              "                              colsample_bylevel=1, colsample_bynode=1,\n",
              "                              colsample_bytree=1, gamma=0,\n",
              "                              importance_type='gain', learning_rate=0.1,\n",
              "                              max_delta_step=0, max_depth=3, min_child_weight=1,\n",
              "                              missing=None, n_estimators=100, n_jobs=-1,\n",
              "                              nthread=None, objective='reg:linear',\n",
              "                              random_state=42, reg_alpha=0, reg_lambda=1,\n",
              "                              scale_pos_weight=1, seed=None, silent=None,\n",
              "                              subsample=1, verbosity=1))],\n",
              "         verbose=False)"
            ]
          },
          "metadata": {
            "tags": []
          },
          "execution_count": 16
        }
      ]
    },
    {
      "cell_type": "code",
      "metadata": {
        "colab": {
          "base_uri": "https://localhost:8080/"
        },
        "id": "6hQMOMNGpCFh",
        "outputId": "cf545c49-8917-4c42-eb73-1d3e13de60fb"
      },
      "source": [
        "#creating Random Forest model and fitting training data\n",
        "model_rf = make_pipeline(\n",
        "    OneHotEncoder(use_cat_names= True), \n",
        "    SimpleImputer(strategy='mean'), \n",
        "    RandomForestRegressor(random_state=42,n_jobs=-1)\n",
        ")\n",
        "\n",
        "model_rf.fit(X_train, y_train)\n"
      ],
      "execution_count": 19,
      "outputs": [
        {
          "output_type": "stream",
          "text": [
            "/usr/local/lib/python3.7/dist-packages/category_encoders/utils.py:21: FutureWarning: is_categorical is deprecated and will be removed in a future version.  Use is_categorical_dtype instead\n",
            "  elif pd.api.types.is_categorical(cols):\n"
          ],
          "name": "stderr"
        },
        {
          "output_type": "execute_result",
          "data": {
            "text/plain": [
              "Pipeline(memory=None,\n",
              "         steps=[('onehotencoder',\n",
              "                 OneHotEncoder(cols=['OP_UNIQUE_CARRIER', 'Wind', 'Condition'],\n",
              "                               drop_invariant=False, handle_missing='value',\n",
              "                               handle_unknown='value', return_df=True,\n",
              "                               use_cat_names=True, verbose=0)),\n",
              "                ('simpleimputer',\n",
              "                 SimpleImputer(add_indicator=False, copy=True, fill_value=None,\n",
              "                               missing_values=nan, strategy='mean',\n",
              "                               verbose=0)),\n",
              "                ('random...\n",
              "                 RandomForestRegressor(bootstrap=True, ccp_alpha=0.0,\n",
              "                                       criterion='mse', max_depth=None,\n",
              "                                       max_features='auto', max_leaf_nodes=None,\n",
              "                                       max_samples=None,\n",
              "                                       min_impurity_decrease=0.0,\n",
              "                                       min_impurity_split=None,\n",
              "                                       min_samples_leaf=1, min_samples_split=2,\n",
              "                                       min_weight_fraction_leaf=0.0,\n",
              "                                       n_estimators=100, n_jobs=-1,\n",
              "                                       oob_score=False, random_state=42,\n",
              "                                       verbose=0, warm_start=False))],\n",
              "         verbose=False)"
            ]
          },
          "metadata": {
            "tags": []
          },
          "execution_count": 19
        }
      ]
    },
    {
      "cell_type": "code",
      "metadata": {
        "colab": {
          "base_uri": "https://localhost:8080/"
        },
        "id": "_tww04jynibq",
        "outputId": "1ae94252-3929-4d2b-834d-c9bbeee0f424"
      },
      "source": [
        "##calculating the MAE for both the training and test data for each model listed above\n",
        "\n",
        "training_mae_lr = mean_absolute_error(y_train, model_lr.predict(X_train))\n",
        "test_mae_lr = mean_absolute_error(y_test, model_lr.predict(X_test))\n",
        "\n",
        "print('Linear Training MAE:', training_mae_lr)\n",
        "print('Linear Test MAE:', test_mae_lr)\n",
        "\n",
        "training_mae_r = mean_absolute_error(y_train, model_r.predict(X_train))\n",
        "test_mae_r = mean_absolute_error(y_test, model_r.predict(X_test))\n",
        "\n",
        "print('Ridge Training MAE:', training_mae_r)\n",
        "print('Ridge Test MAE:', test_mae_r)\n",
        "\n",
        "y_pred = model_xgb.predict(X_train)\n",
        "y_pred_test = model_xgb.predict(X_test)\n",
        "\n",
        "training_mae = mean_absolute_error(y_train, y_pred)\n",
        "test_mae = mean_absolute_error(y_test, y_pred_test)\n",
        "print('Training MAE xgb:', training_mae)\n",
        "print('XGB Test MAE:', test_mae)\n",
        "\n",
        "y_pred_gbm = model_gbm.predict(X_train)\n",
        "y_pred_test_gbm = model_gbm.predict(X_test)\n",
        "\n",
        "training_mae_gbm = mean_absolute_error(y_train, y_pred_gbm)\n",
        "test_mae_gbm = mean_absolute_error(y_test, y_pred_test_gbm)\n",
        "print('Training MAE gbm:', training_mae_gbm)\n",
        "print('GBM Test MAE:', test_mae_gbm)\n",
        "\n",
        "y_pred_rf = model_rf.predict(X_train)\n",
        "y_pred_test_rf = model_rf.predict(X_test)\n",
        "\n",
        "training_mae_rf = mean_absolute_error(y_train, y_pred_rf)\n",
        "test_mae_rf = mean_absolute_error(y_test, y_pred_test_rf)\n",
        "print('Training MAE rf:', training_mae_rf)\n",
        "print('Random Forest Test MAE:', test_mae_rf)"
      ],
      "execution_count": 22,
      "outputs": [
        {
          "output_type": "stream",
          "text": [
            "Linear Test MAE: 5.111500582201669\n",
            "Ridge Test MAE: 5.11188206301841\n",
            "XGB Test MAE: 4.924900259266787\n",
            "GBM Test MAE: 4.919177417701086\n",
            "Random Forest Test MAE: 4.442414989590562\n"
          ],
          "name": "stdout"
        }
      ]
    },
    {
      "cell_type": "code",
      "metadata": {
        "colab": {
          "base_uri": "https://localhost:8080/",
          "height": 312
        },
        "id": "dJUrje5LqrVf",
        "outputId": "015986a0-421e-427e-bc5b-b742e3eebb91"
      },
      "source": [
        "\n",
        "\n",
        "##creating horizontal bar chart for the top ten influencing features\n",
        "features = model_rf.named_steps['onehotencoder'].get_feature_names()\n",
        "importances = model_rf.named_steps['randomforestregressor'].feature_importances_\n",
        "pd.Series(data=importances, index=features).sort_values(key=abs).tail(10).plot(kind='barh')\n",
        "plt.ylabel('Features')\n",
        "plt.xlabel('Feature Importance')\n",
        "plt.title('Top 10 Features')\n"
      ],
      "execution_count": 28,
      "outputs": [
        {
          "output_type": "execute_result",
          "data": {
            "text/plain": [
              "Text(0.5, 1.0, 'Top 10 Features')"
            ]
          },
          "metadata": {
            "tags": []
          },
          "execution_count": 28
        },
        {
          "output_type": "display_data",
          "data": {
            "image/png": "[encoded data removed]",
            "text/plain": [
              "<Figure size 432x288 with 1 Axes>"
            ]
          },
          "metadata": {
            "tags": [],
            "needs_background": "light"
          }
        }
      ]
    },
    {
      "cell_type": "code",
      "metadata": {
        "colab": {
          "base_uri": "https://localhost:8080/",
          "height": 312
        },
        "id": "D_HHGBAprpXd",
        "outputId": "e4de1636-01db-469f-80d7-1bb684ab051b"
      },
      "source": [
        "##creating horizontal bar chart for the bottom ten influencing features\n",
        "features = model_rf.named_steps['onehotencoder'].get_feature_names()\n",
        "importances = model_rf.named_steps['randomforestregressor'].feature_importances_\n",
        "pd.Series(data=importances, index=features).sort_values(key=abs).head(10).plot(kind='barh')\n",
        "plt.ylabel('Features')\n",
        "plt.xlabel('Feature Importance')\n",
        "plt.title('Top 10 Features')"
      ],
      "execution_count": 27,
      "outputs": [
        {
          "output_type": "execute_result",
          "data": {
            "text/plain": [
              "Text(0.5, 1.0, 'Top 10 Features')"
            ]
          },
          "metadata": {
            "tags": []
          },
          "execution_count": 27
        },
        {
          "output_type": "display_data",
          "data": {
            "image/png": "[encoded data removed]",
            "text/plain": [
              "<Figure size 432x288 with 1 Axes>"
            ]
          },
          "metadata": {
            "tags": [],
            "needs_background": "light"
          }
        }
      ]
    },
    {
      "cell_type": "code",
      "metadata": {
        "colab": {
          "base_uri": "https://localhost:8080/",
          "height": 683
        },
        "id": "S1EOxn7cI3sJ",
        "outputId": "0c4bb9e4-147b-4b93-c000-07dfd5ea3544"
      },
      "source": [
        "#creating a PDP interaction chart to compare the top two influencing features\n",
        "from pdpbox.pdp import pdp_isolate, pdp_plot, pdp_interact, pdp_interact_plot\n",
        "\n",
        "features = ['DEP_TIME_M', 'DEP_DELAY']\n",
        "\n",
        "interact = pdp_interact(model_rf,\n",
        "                        dataset = X_test,\n",
        "                        model_features = X_test.columns,\n",
        "                        features=features)\n",
        "\n",
        "pdp_interact_plot(interact,plot_type='grid',feature_names = features)"
      ],
      "execution_count": 26,
      "outputs": [
        {
          "output_type": "execute_result",
          "data": {
            "text/plain": [
              "(<Figure size 540x684 with 3 Axes>,\n",
              " {'pdp_inter_ax': <matplotlib.axes._subplots.AxesSubplot at 0x7f7b62ea50d0>,\n",
              "  'title_ax': <matplotlib.axes._subplots.AxesSubplot at 0x7f7b6205c350>})"
            ]
          },
          "metadata": {
            "tags": []
          },
          "execution_count": 26
        },
        {
          "output_type": "stream",
          "text": [
            "findfont: Font family ['Arial'] not found. Falling back to DejaVu Sans.\n",
            "findfont: Font family ['Arial'] not found. Falling back to DejaVu Sans.\n",
            "findfont: Font family ['Arial'] not found. Falling back to DejaVu Sans.\n",
            "findfont: Font family ['Arial'] not found. Falling back to DejaVu Sans.\n"
          ],
          "name": "stderr"
        },
        {
          "output_type": "display_data",
          "data": {
            "image/png": "[encoded data removed]",
            "text/plain": [
              "<Figure size 540x684 with 3 Axes>"
            ]
          },
          "metadata": {
            "tags": [],
            "needs_background": "light"
          }
        }
      ]
    }
  ]
}